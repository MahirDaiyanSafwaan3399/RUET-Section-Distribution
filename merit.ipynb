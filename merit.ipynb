{
 "cells": [
  {
   "cell_type": "code",
   "execution_count": 1,
   "metadata": {},
   "outputs": [],
   "source": [
    "import pdfplumber\n",
    "from openpyxl import Workbook"
   ]
  },
  {
   "cell_type": "code",
   "execution_count": 2,
   "metadata": {},
   "outputs": [],
   "source": [
    "section_c = []\n",
    "section_b = []\n",
    "section_a = []"
   ]
  },
  {
   "cell_type": "code",
   "execution_count": 3,
   "metadata": {},
   "outputs": [],
   "source": [
    "dept_count = 1\n",
    "roll_a = 1;\n",
    "roll_b = 1;\n",
    "roll_c = 1;\n",
    "\n",
    "with pdfplumber.open(\"Merit.pdf\") as f:\n",
    "    for i in f.pages:\n",
    "        page_entity = len(i.extract_tables()[0])\n",
    "        for j in range(page_entity):\n",
    "            candidate = i.extract_tables()[0][j]\n",
    "            serial = candidate[0]\n",
    "            dept = candidate[4]\n",
    "            name = candidate[2]\n",
    "\n",
    "            if(dept == \"EEE-RUET\"):\n",
    "                if(dept_count % 3 == 0):\n",
    "                    section_c.append([name,roll_c])\n",
    "                    roll_c += 1\n",
    "                elif(dept_count % 3 == 2):\n",
    "                    section_b.append([name,roll_b])\n",
    "                    roll_b += 1\n",
    "                else:\n",
    "                    section_a.append([name,roll_a])\n",
    "                    roll_a += 1\n",
    "                \n",
    "                dept_count += 1\n"
   ]
  },
  {
   "cell_type": "code",
   "execution_count": 4,
   "metadata": {},
   "outputs": [],
   "source": [
    "def create_excel(filename:str,section:list):\n",
    "    wb = Workbook()\n",
    "\n",
    "    # grab the active worksheet\n",
    "    ws = wb.active\n",
    "    ws.append([\"Name\", \"Roll\"])\n",
    "    # Rows can also be appended\n",
    "    for row in section:\n",
    "        ws.append(row)\n",
    "\n",
    "\n",
    "    # Save the file\n",
    "    wb.save(filename)\n",
    "    print(\"Done :)\")"
   ]
  },
  {
   "cell_type": "code",
   "execution_count": 5,
   "metadata": {},
   "outputs": [
    {
     "name": "stdout",
     "output_type": "stream",
     "text": [
      "Done :)\n",
      "Done :)\n",
      "Done :)\n"
     ]
    }
   ],
   "source": [
    "create_excel(\"Section_A.xlsx\",section_a)\n",
    "create_excel(\"Section_B.xlsx\",section_b)\n",
    "create_excel(\"Section_C.xlsx\",section_c)"
   ]
  },
  {
   "cell_type": "code",
   "execution_count": null,
   "metadata": {},
   "outputs": [],
   "source": []
  }
 ],
 "metadata": {
  "kernelspec": {
   "display_name": "Python 3",
   "language": "python",
   "name": "python3"
  },
  "language_info": {
   "codemirror_mode": {
    "name": "ipython",
    "version": 3
   },
   "file_extension": ".py",
   "mimetype": "text/x-python",
   "name": "python",
   "nbconvert_exporter": "python",
   "pygments_lexer": "ipython3",
   "version": "3.12.3"
  }
 },
 "nbformat": 4,
 "nbformat_minor": 2
}
